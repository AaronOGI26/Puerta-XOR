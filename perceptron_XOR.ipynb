{
  "cells": [
    {
      "cell_type": "markdown",
      "metadata": {
        "id": "view-in-github",
        "colab_type": "text"
      },
      "source": [
        "<a href=\"https://colab.research.google.com/github/AaronOGI26/Puerta-XOR/blob/main/perceptron_XOR.ipynb\" target=\"_parent\"><img src=\"https://colab.research.google.com/assets/colab-badge.svg\" alt=\"Open In Colab\"/></a>"
      ]
    },
    {
      "cell_type": "markdown",
      "source": [
        "**IA 1º Bachillerato IES Valle del Jerte**"
      ],
      "metadata": {
        "id": "BfEhMsOdmmkw"
      },
      "id": "BfEhMsOdmmkw"
    },
    {
      "cell_type": "markdown",
      "source": [
        "IMPORTANOS LAS LIBRERÍAS QUE VAMOS A UTILIZAR"
      ],
      "metadata": {
        "id": "1c5puoFcmgvw"
      },
      "id": "1c5puoFcmgvw"
    },
    {
      "cell_type": "code",
      "execution_count": 1,
      "id": "80c9fbc0-d7c3-47f5-b62e-ee51875416fa",
      "metadata": {
        "id": "80c9fbc0-d7c3-47f5-b62e-ee51875416fa"
      },
      "outputs": [],
      "source": [
        "import numpy as np\n",
        "import matplotlib.pyplot as plt"
      ]
    },
    {
      "cell_type": "code",
      "execution_count": 2,
      "id": "620e7936-b7c5-45ae-99b7-eb730875050a",
      "metadata": {
        "id": "620e7936-b7c5-45ae-99b7-eb730875050a"
      },
      "outputs": [],
      "source": [
        "alfa=0.2\n",
        "epochs=10"
      ]
    },
    {
      "cell_type": "code",
      "execution_count": 3,
      "id": "55a17482-2038-451f-9beb-2bc4cd496c70",
      "metadata": {
        "id": "55a17482-2038-451f-9beb-2bc4cd496c70",
        "outputId": "f4952d10-6962-4dc7-bba3-545f8d34e561",
        "colab": {
          "base_uri": "https://localhost:8080/"
        }
      },
      "outputs": [
        {
          "output_type": "execute_result",
          "data": {
            "text/plain": [
              "array([[0, 0],\n",
              "       [0, 1],\n",
              "       [1, 0],\n",
              "       [1, 1]])"
            ]
          },
          "metadata": {},
          "execution_count": 3
        }
      ],
      "source": [
        "X=np.array([[0,0],[0,1],[1,0],[1,1]])\n",
        "X"
      ]
    },
    {
      "cell_type": "code",
      "execution_count": 4,
      "id": "cdceab7e-46c4-48b4-a60e-bad5e8cf726f",
      "metadata": {
        "id": "cdceab7e-46c4-48b4-a60e-bad5e8cf726f",
        "outputId": "074d2ca6-c17c-4d7f-a3b9-858d08fbd612",
        "colab": {
          "base_uri": "https://localhost:8080/"
        }
      },
      "outputs": [
        {
          "output_type": "execute_result",
          "data": {
            "text/plain": [
              "array([0, 1, 1, 1])"
            ]
          },
          "metadata": {},
          "execution_count": 4
        }
      ],
      "source": [
        "y=np.array([0,1,1,1])\n",
        "y"
      ]
    },
    {
      "cell_type": "code",
      "execution_count": 5,
      "id": "f7f35ea9-fcbc-4eb5-bcf9-6e2897508415",
      "metadata": {
        "id": "f7f35ea9-fcbc-4eb5-bcf9-6e2897508415",
        "colab": {
          "base_uri": "https://localhost:8080/"
        },
        "outputId": "841bdfcb-0323-4f60-899d-82f3e769da01"
      },
      "outputs": [
        {
          "output_type": "stream",
          "name": "stdout",
          "text": [
            "[1.95809517 0.96407907 0.56931937]\n"
          ]
        }
      ],
      "source": [
        " w_=np.random.normal(1,.5,size=3)\n",
        " print(w_)"
      ]
    },
    {
      "cell_type": "code",
      "execution_count": 6,
      "id": "445fda88-3318-42ad-82f8-67ba325754bd",
      "metadata": {
        "id": "445fda88-3318-42ad-82f8-67ba325754bd"
      },
      "outputs": [],
      "source": [
        "errores_=[]"
      ]
    },
    {
      "cell_type": "code",
      "execution_count": 7,
      "id": "f675f8c7-8e64-49be-813c-73a398efdefb",
      "metadata": {
        "id": "f675f8c7-8e64-49be-813c-73a398efdefb"
      },
      "outputs": [],
      "source": [
        "def entrenar(X,y):\n",
        "\n",
        "    for i in range(epochs):\n",
        "        errores=0\n",
        "        for  xi, yi in zip(X,y):\n",
        "            actualiza=alfa*(yi-predict(xi))\n",
        "            w_[1:]+=actualiza*xi\n",
        "            w_[0]+=actualiza\n",
        "            errores+=int(actualiza !=0.0)\n",
        "        errores_.append(errores)\n",
        "    return #w_[1:],w_[0],errores_\n",
        ""
      ]
    },
    {
      "cell_type": "code",
      "execution_count": 8,
      "id": "bad252fa-39fc-402c-bc5f-886a50fc18d8",
      "metadata": {
        "id": "bad252fa-39fc-402c-bc5f-886a50fc18d8"
      },
      "outputs": [],
      "source": [
        "def adelante(X):\n",
        "    z=np.dot(X,w_[1:])+w_[0]\n",
        "    return z"
      ]
    },
    {
      "cell_type": "code",
      "execution_count": 9,
      "id": "fa565829-5bfd-4fb4-aedd-f16e04907b8a",
      "metadata": {
        "id": "fa565829-5bfd-4fb4-aedd-f16e04907b8a"
      },
      "outputs": [],
      "source": [
        "def predict(X):\n",
        "    phi=adelante(X)\n",
        "    if phi>=0:\n",
        "        phi=1\n",
        "    else:\n",
        "        phi=0\n",
        "    return phi"
      ]
    },
    {
      "cell_type": "code",
      "execution_count": 10,
      "id": "2a6d2e72-2a4b-498a-bfbb-4bbdaf23e87a",
      "metadata": {
        "id": "2a6d2e72-2a4b-498a-bfbb-4bbdaf23e87a"
      },
      "outputs": [],
      "source": [
        "entrenar(X,y)"
      ]
    },
    {
      "cell_type": "code",
      "execution_count": 11,
      "id": "141d8c6b-0d2e-44af-b770-16688f024afe",
      "metadata": {
        "id": "141d8c6b-0d2e-44af-b770-16688f024afe",
        "outputId": "d8f0c002-f097-482c-b7b1-3cf6333262f4",
        "colab": {
          "base_uri": "https://localhost:8080/",
          "height": 449
        }
      },
      "outputs": [
        {
          "output_type": "display_data",
          "data": {
            "text/plain": [
              "<Figure size 640x480 with 1 Axes>"
            ],
            "image/png": "[encoded data removed]"
          },
          "metadata": {}
        }
      ],
      "source": [
        "plt.plot(range(1,len(errores_)+1),errores_,marker='o')\n",
        "plt.xlabel('Epocas')\n",
        "plt.ylabel('Error')\n",
        "plt.show()"
      ]
    },
    {
      "cell_type": "code",
      "execution_count": 12,
      "id": "1ca0cf78-8375-4e9f-97b3-7619336afa7e",
      "metadata": {
        "id": "1ca0cf78-8375-4e9f-97b3-7619336afa7e"
      },
      "outputs": [],
      "source": [
        "def pred(X):\n",
        "  y=[]\n",
        "  for j in X:\n",
        "\n",
        "    y_pred=np.dot(j,w_[1:])+w_[0]\n",
        "\n",
        "    if y_pred>=0:\n",
        "      y_pred=1\n",
        "    else:\n",
        "      y_pred=0\n",
        "    y.append(y_pred)\n",
        "  return y"
      ]
    },
    {
      "cell_type": "code",
      "source": [
        "pred(X)"
      ],
      "metadata": {
        "colab": {
          "base_uri": "https://localhost:8080/"
        },
        "id": "ePfJv7TXfXGE",
        "outputId": "1c0f9338-cbfb-402c-d12a-e0a2093c99ca"
      },
      "id": "ePfJv7TXfXGE",
      "execution_count": 13,
      "outputs": [
        {
          "output_type": "execute_result",
          "data": {
            "text/plain": [
              "[0, 1, 1, 1]"
            ]
          },
          "metadata": {},
          "execution_count": 13
        }
      ]
    },
    {
      "cell_type": "code",
      "source": [],
      "metadata": {
        "id": "G1w3didTVRpt"
      },
      "id": "G1w3didTVRpt",
      "execution_count": 13,
      "outputs": []
    }
  ],
  "metadata": {
    "kernelspec": {
      "display_name": "Python 3",
      "language": "python",
      "name": "python3"
    },
    "language_info": {
      "codemirror_mode": {
        "name": "ipython",
        "version": 3
      },
      "file_extension": ".py",
      "mimetype": "text/x-python",
      "name": "python",
      "nbconvert_exporter": "python",
      "pygments_lexer": "ipython3",
      "version": "3.8.8"
    },
    "colab": {
      "provenance": [],
      "include_colab_link": true
    }
  },
  "nbformat": 4,
  "nbformat_minor": 5
}